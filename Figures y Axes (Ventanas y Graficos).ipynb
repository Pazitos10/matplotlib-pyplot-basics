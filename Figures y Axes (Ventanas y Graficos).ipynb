{
 "cells": [
  {
   "cell_type": "code",
   "execution_count": 33,
   "metadata": {
    "collapsed": true
   },
   "outputs": [],
   "source": [
    "import matplotlib.pyplot as plt\n",
    "import numpy as np"
   ]
  },
  {
   "cell_type": "code",
   "execution_count": 36,
   "metadata": {
    "collapsed": false
   },
   "outputs": [
    {
     "data": {
      "text/plain": [
       "<matplotlib.figure.Figure at 0x7f84c7da3390>"
      ]
     },
     "execution_count": 36,
     "metadata": {},
     "output_type": "execute_result"
    }
   ],
   "source": [
    "plt.figure() #Crea una nueva Figura/Ventana vacia"
   ]
  },
  {
   "cell_type": "code",
   "execution_count": 37,
   "metadata": {
    "collapsed": true
   },
   "outputs": [],
   "source": [
    "plt.show()"
   ]
  },
  {
   "cell_type": "code",
   "execution_count": 38,
   "metadata": {
    "collapsed": false
   },
   "outputs": [
    {
     "data": {
      "text/plain": [
       "<matplotlib.axes._subplots.AxesSubplot at 0x7f84c7c1cc90>"
      ]
     },
     "execution_count": 38,
     "metadata": {},
     "output_type": "execute_result"
    }
   ],
   "source": [
    "plt.axes() \n",
    "# Grafico/Axes\n",
    "#Crea una nueva ventana con un par de ejes dentro\n",
    "#Es un gráfico vacío"
   ]
  },
  {
   "cell_type": "code",
   "execution_count": 39,
   "metadata": {
    "collapsed": true
   },
   "outputs": [],
   "source": [
    "plt.show() "
   ]
  },
  {
   "cell_type": "code",
   "execution_count": 40,
   "metadata": {
    "collapsed": false
   },
   "outputs": [],
   "source": [
    "# Normalmente, cuando iniciamos la sesion, \n",
    "# esta no esta puesta en modo interactivo. \n",
    "# En modo interactivo, cada vez que metemos codigo nuevo \n",
    "# relacionado con el grafico o la ventana (recordad, una \n",
    "# instancia de matplotlib.axes.Axes o de \n",
    "# matplotlib.figure.Figure, respectivamente), este se \n",
    "# actualizara. Cuando no estamos en modo interactivo, \n",
    "# el grafico no se actualiza hasta que llamemos a show() \n",
    "# (si no hay una ventana abierta) o draw() \n",
    "# (normalmente no lo usareis para nada) explicitamente."
   ]
  },
  {
   "cell_type": "code",
   "execution_count": 41,
   "metadata": {
    "collapsed": false
   },
   "outputs": [
    {
     "data": {
      "text/plain": [
       "False"
      ]
     },
     "execution_count": 41,
     "metadata": {},
     "output_type": "execute_result"
    }
   ],
   "source": [
    "plt.isinteractive() \n",
    "#False = no esta en modo interactivo\n",
    "#True = esta en modo interactivo\n",
    "#plt.ion() activa el modo interactivo\n",
    "#plt.ioff() desactiva el modo interactivo\n",
    "#Si seguimos en modo interactivo (plt.ion()) y \n",
    "#queremos cerrar la ventana podemos usar plt.close()."
   ]
  },
  {
   "cell_type": "code",
   "execution_count": 42,
   "metadata": {
    "collapsed": false
   },
   "outputs": [
    {
     "data": {
      "text/plain": [
       "True"
      ]
     },
     "execution_count": 42,
     "metadata": {},
     "output_type": "execute_result"
    }
   ],
   "source": [
    "plt.ishold()\n",
    "#plt.hold() y plt.ishold() es un conmutador para\n",
    "#decir si queremos que los graficos se sobreescriban\n",
    "#que en el mismo grafico tengamos diferentes graficas\n",
    "#representadas, o para que el grafico se limpie y se dibuje\n",
    "#la nueva grafica cada vez. Si usamos lt.ishold() nos \n",
    "#'responderá' True o False. Si recien se inicia la sesion\n",
    "# esta opcion se encuentra en True.\n",
    "# Si el modo 'hold' estuviera en False, \n",
    "# solo se habría conservado el último plot"
   ]
  },
  {
   "cell_type": "code",
   "execution_count": 43,
   "metadata": {
    "collapsed": false
   },
   "outputs": [],
   "source": [
    "# Imaginaos que ahora queréis trabajar con varias ventanas\n",
    "# de gráficos simultáneamente donde en una dibujáis unos \n",
    "# datos y en la otra otro tipo de datos y \n",
    "# los queréis ver simultáneamente. Podemos hacer esto dándole\n",
    "# nombre (o número) a las ventanas con las que vamos a \n",
    "# trabajar. \n",
    "plt.figure('scatter') # Crea una ventana titulada 'scatter'\n",
    "plt.figure('plot')    # Crea una ventana titulada 'plot'\n",
    "a = np.random.rand(100) # Generamos un vector de valores aleatorios\n",
    "b = np.random.rand(100) # Generamos otro vector de valores aleatorios\n",
    "plt.figure('scatter') # Le decimos que la ventana activa en la que vamos a dibujar es la ventana 'scatter'\n",
    "plt.scatter(a,b)  # Dibujamos un scatterplot en la ventana 'scatter'\n",
    "plt.figure('plot') # Ahora cambiamos a la ventana 'plot'\n",
    "plt.plot(a,b)\n",
    "plt.show()"
   ]
  },
  {
   "cell_type": "code",
   "execution_count": 45,
   "metadata": {
    "collapsed": false
   },
   "outputs": [],
   "source": [
    "# Pero yo no quiero dibujar los gráficos en dos ventanas, \n",
    "# yo quiero tener varios gráficos en la misma. \n",
    "# Perfecto, también podemos hacer eso sin problemas con la \n",
    "# ayuda de plt.subplot(). Con plt.subplot() podemos indicar \n",
    "# el número de filas y columnas que corresponderán \n",
    "# a como dividimos la ventana.\n",
    "plt.subplot(1,2,1)  # Dividimos la ventana en una fila y dos columnas y dibujamos el primer gráfico\n",
    "plt.plot((1,2,3,4,5))\n",
    "plt.subplot(1,2,2)  # Dividimos la ventana en una fila y dos columnas y dibujamos el segundo gráfico\n",
    "plt.plot((5,4,3,2,1))\n",
    "plt.show()\n"
   ]
  },
  {
   "cell_type": "code",
   "execution_count": 46,
   "metadata": {
    "collapsed": true
   },
   "outputs": [],
   "source": [
    "# Sigue el tutorial en el ipython-notebook\n",
    "# llamado: subplots"
   ]
  },
  {
   "cell_type": "code",
   "execution_count": null,
   "metadata": {
    "collapsed": true
   },
   "outputs": [],
   "source": []
  }
 ],
 "metadata": {
  "kernelspec": {
   "display_name": "Python 2",
   "language": "python",
   "name": "python2"
  },
  "language_info": {
   "codemirror_mode": {
    "name": "ipython",
    "version": 2
   },
   "file_extension": ".py",
   "mimetype": "text/x-python",
   "name": "python",
   "nbconvert_exporter": "python",
   "pygments_lexer": "ipython2",
   "version": "2.7.10"
  }
 },
 "nbformat": 4,
 "nbformat_minor": 0
}
